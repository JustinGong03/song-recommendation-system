{
 "cells": [
  {
   "cell_type": "markdown",
   "id": "aba5efbf-111f-448d-bc2c-628a5e6412bc",
   "metadata": {},
   "source": [
    "# Song Recommendation Project - User Survey Results\n",
    "### Justin Gong | June 2023 - July 2023"
   ]
  },
  {
   "cell_type": "markdown",
   "id": "2ebc0069-4ce4-4ed7-9616-9323dc8fce3a",
   "metadata": {},
   "source": [
    "This notebook takes and draws conclusions from user surveys to determine metrics for my model. This is done through data visualizations and direct analysis of tables. This notebook will be divided into two parts: **pre-user survey** and **final system user review**. These two sections can be found based on the headers in this notebook."
   ]
  },
  {
   "cell_type": "markdown",
   "id": "be8c56e1-b575-45ff-8aa6-246b8c606dd2",
   "metadata": {},
   "source": [
    "NOTE: The pre-user survey section was completed **prior** to developing the system in main_notebook.ipynb. The final system user review section was completed **after** developing the recommendation system. "
   ]
  },
  {
   "cell_type": "markdown",
   "id": "2f6cfaab-96d3-459e-b9c6-8af1747bb574",
   "metadata": {},
   "source": [
    "## Importing Libraries"
   ]
  },
  {
   "cell_type": "code",
   "execution_count": 1,
   "id": "3762f535-c29b-4b47-9937-9bc46172fde7",
   "metadata": {},
   "outputs": [
    {
     "name": "stderr",
     "output_type": "stream",
     "text": [
      "/Users/justingong/opt/anaconda3/lib/python3.8/site-packages/scipy/__init__.py:146: UserWarning: A NumPy version >=1.16.5 and <1.23.0 is required for this version of SciPy (detected version 1.23.5\n",
      "  warnings.warn(f\"A NumPy version >={np_minversion} and <{np_maxversion}\"\n"
     ]
    }
   ],
   "source": [
    "import pandas as pd\n",
    "import numpy as np\n",
    "import matplotlib.pyplot as plt \n",
    "import seaborn as sns"
   ]
  },
  {
   "cell_type": "markdown",
   "id": "6c537553-35fc-41f0-a399-c21ee98142d7",
   "metadata": {},
   "source": [
    "# Pre-User Survey"
   ]
  },
  {
   "cell_type": "markdown",
   "id": "a2aa4281-ff05-47b7-a0b4-23796fb611e2",
   "metadata": {},
   "source": [
    "Prior to beginning this project, I brainstormed potential variables in determining how songs would be recommended, independent of social network analysis (user-based recommendation systems that rely on actions of similar users) due to lack of data. I designed a pre-survey for users to take to determine what are the most important features to my audience. Due to the structure of the surveying, the results are indicative of **young adults** residing in **New Jersey.** The information below should be taken into account: \n",
    "\n",
    "1. This was conducted through a digital Google Forms survey, as attached in the GitHub repository \n",
    "2. 45 users were selected to answer the survey, which is large enough to draw generalized statistical conclusions \n",
    "3. The integrity of selection was *NOT* random, as users were hand-picked myself. Therefore, this introduces potential bias in the answers and must be taken into consideration when drawing conclusions\n",
    "4. Users were instructed to try to select 1 or 5 at least once to avoid neutral results."
   ]
  },
  {
   "cell_type": "markdown",
   "id": "fd80e6f6-82cb-4ffb-b002-0cc18359f099",
   "metadata": {},
   "source": [
    "The following are the questions on the survey:\n",
    "\n",
    "- Q1 - Importance of similar audio features\n",
    "- Q2 - Importance of popularity\n",
    "- Q3 - Importance of genre\n",
    "- Q4 - Importance of time period \n",
    "- Q5 - Importance of similar artists \n",
    "- Q6 - Importance of proportionalizing artists\n",
    "- Q7 - Importance of lyric similarity\n",
    "\n",
    "Each of the values represent importance on a scale of 1-5, with 1 being no importance and 5 most extremely important."
   ]
  },
  {
   "cell_type": "code",
   "execution_count": 4,
   "id": "b242d12f-c6c2-4c7b-a6a1-7a1a0101b49e",
   "metadata": {},
   "outputs": [],
   "source": [
    "presurvey = pd.read_csv(\"data/user_presurvey_results.csv\")"
   ]
  },
  {
   "cell_type": "code",
   "execution_count": 6,
   "id": "c34582b3-c872-4a3c-ace9-f221a742f368",
   "metadata": {},
   "outputs": [
    {
     "data": {
      "text/html": [
       "<div>\n",
       "<style scoped>\n",
       "    .dataframe tbody tr th:only-of-type {\n",
       "        vertical-align: middle;\n",
       "    }\n",
       "\n",
       "    .dataframe tbody tr th {\n",
       "        vertical-align: top;\n",
       "    }\n",
       "\n",
       "    .dataframe thead th {\n",
       "        text-align: right;\n",
       "    }\n",
       "</style>\n",
       "<table border=\"1\" class=\"dataframe\">\n",
       "  <thead>\n",
       "    <tr style=\"text-align: right;\">\n",
       "      <th></th>\n",
       "      <th>Q1</th>\n",
       "      <th>Q2</th>\n",
       "      <th>Q3</th>\n",
       "      <th>Q4</th>\n",
       "      <th>Q5</th>\n",
       "      <th>Q6</th>\n",
       "      <th>Q7</th>\n",
       "    </tr>\n",
       "  </thead>\n",
       "  <tbody>\n",
       "    <tr>\n",
       "      <th>0</th>\n",
       "      <td>4</td>\n",
       "      <td>1</td>\n",
       "      <td>5</td>\n",
       "      <td>2</td>\n",
       "      <td>5</td>\n",
       "      <td>1</td>\n",
       "      <td>1</td>\n",
       "    </tr>\n",
       "    <tr>\n",
       "      <th>1</th>\n",
       "      <td>3</td>\n",
       "      <td>2</td>\n",
       "      <td>4</td>\n",
       "      <td>1</td>\n",
       "      <td>3</td>\n",
       "      <td>3</td>\n",
       "      <td>2</td>\n",
       "    </tr>\n",
       "    <tr>\n",
       "      <th>2</th>\n",
       "      <td>5</td>\n",
       "      <td>3</td>\n",
       "      <td>3</td>\n",
       "      <td>1</td>\n",
       "      <td>4</td>\n",
       "      <td>5</td>\n",
       "      <td>3</td>\n",
       "    </tr>\n",
       "    <tr>\n",
       "      <th>3</th>\n",
       "      <td>2</td>\n",
       "      <td>3</td>\n",
       "      <td>4</td>\n",
       "      <td>1</td>\n",
       "      <td>2</td>\n",
       "      <td>2</td>\n",
       "      <td>1</td>\n",
       "    </tr>\n",
       "    <tr>\n",
       "      <th>4</th>\n",
       "      <td>5</td>\n",
       "      <td>4</td>\n",
       "      <td>4</td>\n",
       "      <td>1</td>\n",
       "      <td>5</td>\n",
       "      <td>4</td>\n",
       "      <td>1</td>\n",
       "    </tr>\n",
       "  </tbody>\n",
       "</table>\n",
       "</div>"
      ],
      "text/plain": [
       "   Q1  Q2  Q3  Q4  Q5  Q6  Q7\n",
       "0   4   1   5   2   5   1   1\n",
       "1   3   2   4   1   3   3   2\n",
       "2   5   3   3   1   4   5   3\n",
       "3   2   3   4   1   2   2   1\n",
       "4   5   4   4   1   5   4   1"
      ]
     },
     "execution_count": 6,
     "metadata": {},
     "output_type": "execute_result"
    }
   ],
   "source": [
    "presurvey.head()"
   ]
  },
  {
   "cell_type": "markdown",
   "id": "fd9df78c-dfa9-40ef-b729-21673f43894b",
   "metadata": {},
   "source": [
    "This table **(previously cleaned in Excel)** displays the answers for a given user and question. "
   ]
  },
  {
   "cell_type": "code",
   "execution_count": 64,
   "id": "69009288-4657-4dc2-86f7-50604669694c",
   "metadata": {},
   "outputs": [
    {
     "data": {
      "text/plain": [
       "Text(0.5, 0, 'Question')"
      ]
     },
     "execution_count": 64,
     "metadata": {},
     "output_type": "execute_result"
    },
    {
     "data": {
      "image/png": "[encoded data removed]",
      "text/plain": [
       "<Figure size 720x432 with 1 Axes>"
      ]
     },
     "metadata": {},
     "output_type": "display_data"
    }
   ],
   "source": [
    "sns.set_style(\"darkgrid\")\n",
    "plt.figure(figsize = (10, 6))\n",
    "ax = sns.barplot(data = presurvey, \n",
    "                 ci = None)\n",
    "\n",
    "for x in ax.patches:\n",
    "    ax.annotate(format(x.get_height(), '.1f'),\n",
    "                (x.get_x() + x.get_width() / 2., x.get_height()),\n",
    "                ha = 'center', \n",
    "                va = 'bottom',\n",
    "                xytext = (0, 5), \n",
    "                textcoords='offset points',\n",
    "                weight = 'bold')\n",
    "\n",
    "plt.title(\"Average Importance Rating per Question\", weight = 'bold')\n",
    "plt.ylabel(\"Rating\")\n",
    "plt.xlabel(\"Question\")"
   ]
  },
  {
   "cell_type": "markdown",
   "id": "0ce0d9e7-b71f-452f-a56c-f17c57730c78",
   "metadata": {},
   "source": [
    "From this, we can see that question 1 and question 3 are the most important features. This tells us that users prefer for their recommended songs to have similar audio features and be the same genre. This tells us that the **type** of song is the utmost important variable in determining the songs. However, we can see that other aspects such as similar artists and popularity is also important."
   ]
  },
  {
   "cell_type": "markdown",
   "id": "a33fcc68-8f93-43e9-9a8d-bc08bd5cb457",
   "metadata": {},
   "source": [
    "Next, we'll analyze the distribution of questions for ratings of 5 and ratings of 1:"
   ]
  },
  {
   "cell_type": "code",
   "execution_count": 36,
   "id": "2cce3e46-9c26-4a98-9bd1-49583d81e7fd",
   "metadata": {},
   "outputs": [],
   "source": [
    "presurvey_pivot = pd.melt(presurvey).pivot_table(index = \"value\", columns = \"variable\", aggfunc = \"size\", fill_value = 0)"
   ]
  },
  {
   "cell_type": "code",
   "execution_count": 37,
   "id": "00371d2a-19da-42e2-bcd2-13db91d36071",
   "metadata": {},
   "outputs": [
    {
     "data": {
      "text/html": [
       "<div>\n",
       "<style scoped>\n",
       "    .dataframe tbody tr th:only-of-type {\n",
       "        vertical-align: middle;\n",
       "    }\n",
       "\n",
       "    .dataframe tbody tr th {\n",
       "        vertical-align: top;\n",
       "    }\n",
       "\n",
       "    .dataframe thead th {\n",
       "        text-align: right;\n",
       "    }\n",
       "</style>\n",
       "<table border=\"1\" class=\"dataframe\">\n",
       "  <thead>\n",
       "    <tr style=\"text-align: right;\">\n",
       "      <th>variable</th>\n",
       "      <th>Q1</th>\n",
       "      <th>Q2</th>\n",
       "      <th>Q3</th>\n",
       "      <th>Q4</th>\n",
       "      <th>Q5</th>\n",
       "      <th>Q6</th>\n",
       "      <th>Q7</th>\n",
       "    </tr>\n",
       "    <tr>\n",
       "      <th>value</th>\n",
       "      <th></th>\n",
       "      <th></th>\n",
       "      <th></th>\n",
       "      <th></th>\n",
       "      <th></th>\n",
       "      <th></th>\n",
       "      <th></th>\n",
       "    </tr>\n",
       "  </thead>\n",
       "  <tbody>\n",
       "    <tr>\n",
       "      <th>1</th>\n",
       "      <td>1</td>\n",
       "      <td>2</td>\n",
       "      <td>0</td>\n",
       "      <td>44</td>\n",
       "      <td>1</td>\n",
       "      <td>1</td>\n",
       "      <td>30</td>\n",
       "    </tr>\n",
       "    <tr>\n",
       "      <th>2</th>\n",
       "      <td>1</td>\n",
       "      <td>4</td>\n",
       "      <td>0</td>\n",
       "      <td>1</td>\n",
       "      <td>3</td>\n",
       "      <td>3</td>\n",
       "      <td>12</td>\n",
       "    </tr>\n",
       "    <tr>\n",
       "      <th>3</th>\n",
       "      <td>5</td>\n",
       "      <td>33</td>\n",
       "      <td>3</td>\n",
       "      <td>0</td>\n",
       "      <td>32</td>\n",
       "      <td>21</td>\n",
       "      <td>2</td>\n",
       "    </tr>\n",
       "    <tr>\n",
       "      <th>4</th>\n",
       "      <td>12</td>\n",
       "      <td>5</td>\n",
       "      <td>36</td>\n",
       "      <td>0</td>\n",
       "      <td>6</td>\n",
       "      <td>18</td>\n",
       "      <td>1</td>\n",
       "    </tr>\n",
       "    <tr>\n",
       "      <th>5</th>\n",
       "      <td>26</td>\n",
       "      <td>1</td>\n",
       "      <td>6</td>\n",
       "      <td>0</td>\n",
       "      <td>3</td>\n",
       "      <td>2</td>\n",
       "      <td>0</td>\n",
       "    </tr>\n",
       "  </tbody>\n",
       "</table>\n",
       "</div>"
      ],
      "text/plain": [
       "variable  Q1  Q2  Q3  Q4  Q5  Q6  Q7\n",
       "value                               \n",
       "1          1   2   0  44   1   1  30\n",
       "2          1   4   0   1   3   3  12\n",
       "3          5  33   3   0  32  21   2\n",
       "4         12   5  36   0   6  18   1\n",
       "5         26   1   6   0   3   2   0"
      ]
     },
     "execution_count": 37,
     "metadata": {},
     "output_type": "execute_result"
    }
   ],
   "source": [
    "presurvey_pivot"
   ]
  },
  {
   "cell_type": "markdown",
   "id": "a337ba91-d5df-466e-8f94-42e39c305c0e",
   "metadata": {},
   "source": [
    "We can see the distribution of distribution of the answers clearly using the above table. Immediately, it is apparent that question 4 is not important to most users, that being the recommended song occuring in the same year/approximately the same year."
   ]
  },
  {
   "cell_type": "code",
   "execution_count": 63,
   "id": "97811bad-9af4-4d25-9faf-8067ec8fad2f",
   "metadata": {},
   "outputs": [
    {
     "data": {
      "text/plain": [
       "Text(0.5, 1.0, 'Distribution of Questions Receiving 5')"
      ]
     },
     "execution_count": 63,
     "metadata": {},
     "output_type": "execute_result"
    },
    {
     "data": {
      "image/png": "[encoded data removed]",
      "text/plain": [
       "<Figure size 720x432 with 1 Axes>"
      ]
     },
     "metadata": {},
     "output_type": "display_data"
    }
   ],
   "source": [
    "plt.figure(figsize = (10, 6))\n",
    "plt.pie(presurvey_pivot.iloc[4], labels = presurvey_pivot.iloc[4].values)\n",
    "plt.legend(labels = presurvey_pivot.iloc[4].index)\n",
    "plt.tight_layout()\n",
    "plt.title(\"Distribution of Questions Receiving 5\", weight = 'bold')"
   ]
  },
  {
   "cell_type": "code",
   "execution_count": 75,
   "id": "0f6a5a4c-3ac9-4065-828c-5a204525a923",
   "metadata": {},
   "outputs": [
    {
     "data": {
      "text/plain": [
       "Text(0.5, 1.0, 'Distribution of Questions Receiving 1')"
      ]
     },
     "execution_count": 75,
     "metadata": {},
     "output_type": "execute_result"
    },
    {
     "data": {
      "image/png": "[encoded data removed]",
      "text/plain": [
       "<Figure size 720x432 with 1 Axes>"
      ]
     },
     "metadata": {},
     "output_type": "display_data"
    }
   ],
   "source": [
    "plt.figure(figsize = (10, 6))\n",
    "plt.pie(presurvey_pivot.iloc[0], labels = presurvey_pivot.iloc[0].values)\n",
    "plt.legend(labels = presurvey_pivot.iloc[0].index, loc = 'upper right', bbox_to_anchor = (1.1, 1))\n",
    "plt.title(\"Distribution of Questions Receiving 1\", weight = 'bold')"
   ]
  },
  {
   "cell_type": "markdown",
   "id": "7383cc95-5219-4a68-bd23-60e98528ab67",
   "metadata": {},
   "source": [
    "From these distributions, we may completely omit 4 and 7 from the metrics in my recommendation system (Time period and lyric similarity). We can also see that audio features is the most important feature, therefore we need a system that can find the most similar songs based on audio features and prioritize that information as part of the calculation."
   ]
  },
  {
   "cell_type": "markdown",
   "id": "1ba02c04-241a-4891-b87a-cfaf90c079a2",
   "metadata": {
    "tags": []
   },
   "source": [
    "Therefore, we currently have the following metrics for our recommendation system: **audio features**, **popularity**, **genres**, and **artists**. Since audio features and popularity are measured numerically, we will first analyze these two categories to determine how to calculate a *base* recommendation score. Since genre and artists are categorical and more difficult to \"formulate\" into a recommendation score, we will approach this separately from audio features and popularity score. We will address this once we analyze the other two categories."
   ]
  },
  {
   "cell_type": "markdown",
   "id": "39348d93-c671-44fe-b390-4ca874f3db4b",
   "metadata": {},
   "source": [
    "### Analysis of Audio Features and Popularity"
   ]
  },
  {
   "cell_type": "markdown",
   "id": "0fff9b20-5c55-4841-9113-0e9adc990a6a",
   "metadata": {},
   "source": [
    "First, we need to decide how to distribute the recommendation score based on the audio features and the popularity. Since the popularity is scored out of 100 points on the spotify API, we will measure similarity of audio features on a scale of 100 as well, and decide the weightage of both categories. This will be done by comparing the importance of these two specific categories for users."
   ]
  },
  {
   "cell_type": "code",
   "execution_count": 81,
   "id": "73f86363-69e0-4787-9fc4-809324b8fd9e",
   "metadata": {},
   "outputs": [
    {
     "data": {
      "text/plain": [
       "0.593939393939394"
      ]
     },
     "execution_count": 81,
     "metadata": {},
     "output_type": "execute_result"
    }
   ],
   "source": [
    "presurvey['Q1'].sum() / presurvey[['Q1', 'Q2']].sum().sum()"
   ]
  },
  {
   "cell_type": "code",
   "execution_count": 82,
   "id": "f397feba-393a-4e16-921f-c0495de435ee",
   "metadata": {},
   "outputs": [
    {
     "data": {
      "text/plain": [
       "0.40606060606060607"
      ]
     },
     "execution_count": 82,
     "metadata": {},
     "output_type": "execute_result"
    }
   ],
   "source": [
    "presurvey['Q2'].sum() / presurvey[['Q1', 'Q2']].sum().sum()"
   ]
  },
  {
   "cell_type": "markdown",
   "id": "664eb6cf-ea20-4cc5-9c30-7f37ab61052c",
   "metadata": {},
   "source": [
    "It appears that of the two ratings, 60% is held by audio features and 40% is held by popularity. Let's further analyze the distribution by only looking at ratings above a 3, which signifies the extent which users see the feature as important (Since 3 is considered neutral). "
   ]
  },
  {
   "cell_type": "code",
   "execution_count": 85,
   "id": "e2f61f7a-6804-496d-a89f-fe74c6831c6f",
   "metadata": {},
   "outputs": [
    {
     "data": {
      "text/plain": [
       "178"
      ]
     },
     "execution_count": 85,
     "metadata": {},
     "output_type": "execute_result"
    }
   ],
   "source": [
    "presurvey['Q1'][presurvey['Q1'] > 3].sum()"
   ]
  },
  {
   "cell_type": "code",
   "execution_count": 86,
   "id": "611f701d-48d5-4a30-85f8-c9a353c58286",
   "metadata": {},
   "outputs": [
    {
     "data": {
      "text/plain": [
       "25"
      ]
     },
     "execution_count": 86,
     "metadata": {},
     "output_type": "execute_result"
    }
   ],
   "source": [
    "presurvey['Q2'][presurvey['Q2'] > 3].sum()"
   ]
  },
  {
   "cell_type": "code",
   "execution_count": 87,
   "id": "83ff2fb1-065e-4b94-8434-3524bd223e9a",
   "metadata": {},
   "outputs": [
    {
     "data": {
      "text/plain": [
       "0.8768472906403941"
      ]
     },
     "execution_count": 87,
     "metadata": {},
     "output_type": "execute_result"
    }
   ],
   "source": [
    "178 / (178 + 25)"
   ]
  },
  {
   "cell_type": "markdown",
   "id": "4e6769e8-614e-474c-93bf-15d574409a5b",
   "metadata": {},
   "source": [
    "Now we can see that if we limit the analysis to only ratings above 3, there is significantly more weight held by the audio features category. We can also see this through the pivot table above, as the primary rating for audio features was 5 but the primary rating for popularity is 3. Therefore, due to the results we see in these two sections, we can have popularity hold **20%** of the recommendation score and audio feature similarity hold **80%** of the recommendation score for the base."
   ]
  },
  {
   "cell_type": "markdown",
   "id": "a00bf15d-ecb5-4319-9f98-00e9749b3dc5",
   "metadata": {},
   "source": [
    "### Analysis of Genres and Artists"
   ]
  },
  {
   "cell_type": "markdown",
   "id": "9668f0ca-677c-4c41-b6e1-26a8bf551267",
   "metadata": {},
   "source": [
    "As mentioned earlier, we cannot measure audio features and popularity the same as overlapping genres and artists, as these cannot be directly measured numerically. In order to determine it's weightage and how to determine its contribution to the recommendation score, we may visualize the pivot table constructed earlier. "
   ]
  },
  {
   "cell_type": "code",
   "execution_count": 91,
   "id": "e2639788-d072-4811-82b5-3a3f74098b46",
   "metadata": {},
   "outputs": [
    {
     "data": {
      "text/html": [
       "<div>\n",
       "<style scoped>\n",
       "    .dataframe tbody tr th:only-of-type {\n",
       "        vertical-align: middle;\n",
       "    }\n",
       "\n",
       "    .dataframe tbody tr th {\n",
       "        vertical-align: top;\n",
       "    }\n",
       "\n",
       "    .dataframe thead th {\n",
       "        text-align: right;\n",
       "    }\n",
       "</style>\n",
       "<table border=\"1\" class=\"dataframe\">\n",
       "  <thead>\n",
       "    <tr style=\"text-align: right;\">\n",
       "      <th>variable</th>\n",
       "      <th>Q1</th>\n",
       "      <th>Q2</th>\n",
       "      <th>Q3</th>\n",
       "      <th>Q4</th>\n",
       "      <th>Q5</th>\n",
       "      <th>Q6</th>\n",
       "      <th>Q7</th>\n",
       "    </tr>\n",
       "    <tr>\n",
       "      <th>value</th>\n",
       "      <th></th>\n",
       "      <th></th>\n",
       "      <th></th>\n",
       "      <th></th>\n",
       "      <th></th>\n",
       "      <th></th>\n",
       "      <th></th>\n",
       "    </tr>\n",
       "  </thead>\n",
       "  <tbody>\n",
       "    <tr>\n",
       "      <th>1</th>\n",
       "      <td>1</td>\n",
       "      <td>2</td>\n",
       "      <td>0</td>\n",
       "      <td>44</td>\n",
       "      <td>1</td>\n",
       "      <td>1</td>\n",
       "      <td>30</td>\n",
       "    </tr>\n",
       "    <tr>\n",
       "      <th>2</th>\n",
       "      <td>1</td>\n",
       "      <td>4</td>\n",
       "      <td>0</td>\n",
       "      <td>1</td>\n",
       "      <td>3</td>\n",
       "      <td>3</td>\n",
       "      <td>12</td>\n",
       "    </tr>\n",
       "    <tr>\n",
       "      <th>3</th>\n",
       "      <td>5</td>\n",
       "      <td>33</td>\n",
       "      <td>3</td>\n",
       "      <td>0</td>\n",
       "      <td>32</td>\n",
       "      <td>21</td>\n",
       "      <td>2</td>\n",
       "    </tr>\n",
       "    <tr>\n",
       "      <th>4</th>\n",
       "      <td>12</td>\n",
       "      <td>5</td>\n",
       "      <td>36</td>\n",
       "      <td>0</td>\n",
       "      <td>6</td>\n",
       "      <td>18</td>\n",
       "      <td>1</td>\n",
       "    </tr>\n",
       "    <tr>\n",
       "      <th>5</th>\n",
       "      <td>26</td>\n",
       "      <td>1</td>\n",
       "      <td>6</td>\n",
       "      <td>0</td>\n",
       "      <td>3</td>\n",
       "      <td>2</td>\n",
       "      <td>0</td>\n",
       "    </tr>\n",
       "  </tbody>\n",
       "</table>\n",
       "</div>"
      ],
      "text/plain": [
       "variable  Q1  Q2  Q3  Q4  Q5  Q6  Q7\n",
       "value                               \n",
       "1          1   2   0  44   1   1  30\n",
       "2          1   4   0   1   3   3  12\n",
       "3          5  33   3   0  32  21   2\n",
       "4         12   5  36   0   6  18   1\n",
       "5         26   1   6   0   3   2   0"
      ]
     },
     "execution_count": 91,
     "metadata": {},
     "output_type": "execute_result"
    }
   ],
   "source": [
    "presurvey_pivot[[]]"
   ]
  },
  {
   "cell_type": "code",
   "execution_count": 92,
   "id": "f2867d54-4675-4627-ab7b-1f638ffa6097",
   "metadata": {},
   "outputs": [
    {
     "data": {
      "text/plain": [
       "Text(0.5, 1.0, 'Line Plot of User Ratings per Question')"
      ]
     },
     "execution_count": 92,
     "metadata": {},
     "output_type": "execute_result"
    },
    {
     "data": {
      "image/png": "[encoded data removed]",
      "text/plain": [
       "<Figure size 720x432 with 1 Axes>"
      ]
     },
     "metadata": {},
     "output_type": "display_data"
    }
   ],
   "source": [
    "plt.figure(figsize=(10, 6))\n",
    "sns.lineplot(data = presurvey_pivot[['Q1', 'Q2', 'Q3', 'Q5', 'Q6']])\n",
    "plt.title(\"Line Plot of User Ratings per Question\", weight = 'bold')"
   ]
  },
  {
   "cell_type": "markdown",
   "id": "7f8f7c62-a724-4e29-b407-3bb96710e9db",
   "metadata": {},
   "source": [
    "As we can see from the line plot above, there is a fairly similar distribution between popularity and overlapping artists, both with primarily ratings of 3. Therefore, we know that the **maximum** contribution that overlapping artists can have on the recommendation score is **0.2**. This is because the maximum amount of contribution that popularity can have on the recommendation score is **0.2**, if that song has a popularity score of 100 on the Spotipy API. "
   ]
  },
  {
   "cell_type": "markdown",
   "id": "467a0c03-2163-4870-82c4-295e3ca7787f",
   "metadata": {},
   "source": [
    "However, it is also important to note that the popularity contribution is proportional to the popularity score. Therefore, the amount of overlapping artists should be proportional to the contribution. Especially since question 6 has an average rating 3.4, which indicates that users do care about this proportionality. This means that if a potential song is made by an artist that only occurs once in the playlist, it should not have a large contribution, but if this artist occurs many times in the playlist, it should be have a higher recommendation score. Therefore, we will create a system that will proportionally contribute based on the amount of artist overlap in the playlist, with a maximum contribution of 0.2."
   ]
  },
  {
   "cell_type": "code",
   "execution_count": 113,
   "id": "525fbf9a-b65a-40aa-9b97-4bfb56c08ff5",
   "metadata": {},
   "outputs": [
    {
     "data": {
      "text/plain": [
       "Text(0.5, 1.0, 'Importance Rating Share Between Q3 and Q5')"
      ]
     },
     "execution_count": 113,
     "metadata": {},
     "output_type": "execute_result"
    },
    {
     "data": {
      "image/png": "[encoded data removed]",
      "text/plain": [
       "<Figure size 720x432 with 1 Axes>"
      ]
     },
     "metadata": {},
     "output_type": "display_data"
    }
   ],
   "source": [
    "plt.figure(figsize = (10, 6))\n",
    "plt.pie(presurvey_pivot[['Q3', 'Q5']].apply(lambda row: row * row.name, axis = 1).sum(), labels = presurvey_pivot[['Q3', 'Q5']].apply(lambda row: row * row.name, axis = 1).sum())\n",
    "plt.legend(labels = ['Q3', 'Q5'], loc = 'upper right', bbox_to_anchor = (1.1, 1))\n",
    "plt.title(\"Importance Rating Share Between Q3 and Q5\", weight = 'bold')"
   ]
  },
  {
   "cell_type": "markdown",
   "id": "7dee8408-8c60-4fd9-86c3-9d0b72e53036",
   "metadata": {},
   "source": [
    "As we can see by comparing the importance ratings between Q3 and Q5 (importance of genre vs artist respectively), having the same genre is slightly more important to users than have the same artists. Therefore, we will use a similar system in measuring the contribution of genre, but instead, have a maximum contribution of **0.25**. "
   ]
  },
  {
   "cell_type": "markdown",
   "id": "b383bb02-4be4-4d69-a938-f8ad3761d058",
   "metadata": {},
   "source": [
    "## Final Takeaways"
   ]
  },
  {
   "cell_type": "markdown",
   "id": "2432c415-90ce-4512-a454-03c0a46a5ad2",
   "metadata": {},
   "source": [
    "1. Audio feature similarity is the most important feature according to users, and should be the main focus of the project \n",
    "2. Audio feature similarity may be 80% of the base recommendation score and popularity may be the other 20% \n",
    "3. Overlapping artists may contribute at most an additional 0.2 points, being proportional to the occurence of the overlapping artist in the playlist \n",
    "4. Overlapping genres may contribute at most an additional 0.25 points, being proportional to the occurence of the overlapping genre in the playlist"
   ]
  },
  {
   "cell_type": "markdown",
   "id": "8e541304-4f6f-4a3f-a2e9-a3db7491c7cf",
   "metadata": {},
   "source": [
    "# Final Recommendation System User Review"
   ]
  },
  {
   "cell_type": "markdown",
   "id": "55b336ac-2eb6-4827-9a9c-34db264aca42",
   "metadata": {},
   "source": [
    "At the end of the project, I had users test the final recommendation system with a playlist of their choice. I designed a survey to gather reviews from users to retrieve measureable performance metrics and feedback for future improvements. Due to the structure of sampling, it is important to note that these results are primarily restricted to **young adults** residing in **New Jersey**. The information below should also be taken into account:"
   ]
  },
  {
   "cell_type": "markdown",
   "id": "8612c094-eb0c-4c51-81be-cb51f7f32212",
   "metadata": {},
   "source": [
    "1. This was conducted digitally via a Google Forms survey, which can be found on the GitHub repository \n",
    "2. 48 users were selected for user feedback, which statistically significant to draw conclusions on the general population\n",
    "3. The integrity of the sampling was NOT random, as users hand-picked myself. Therefore, this introduces potential bias in the answers \n",
    "4. Users were instructed to *intentionally* pick a playlist that has a \"significant and detectable theme/mood/genre\" for the best model performance. \n",
    "    a. This is due to the model relying on the songs in the playlist having an overarcing \"theme\" to produce similar audio features \n",
    "5. Users from previous surveys (Such as the presurvey) were surveyed once again. This may cause bias in the performance evaluation as the model construction was based on the presurvey answers."
   ]
  },
  {
   "cell_type": "markdown",
   "id": "4886e8c9-132f-4e98-bff3-676a56ff14e4",
   "metadata": {},
   "source": [
    "Below are the four questions that were asked to users on this survey:"
   ]
  },
  {
   "cell_type": "markdown",
   "id": "9cd87920-a170-4495-aff8-d28085ff015c",
   "metadata": {},
   "source": [
    "- Q1: What was the general category of your playlist? \n",
    "- Q2: From 1-100%, what proportions of the songs would you say were successful recommendations?\n",
    "- Q3: From 1-5, how would you rate the performance of the model overall? \n",
    "- Q4: What was the biggest reason why songs were unsuccessfully recommended?"
   ]
  },
  {
   "cell_type": "markdown",
   "id": "7299c4cd-fd2f-4fdb-ad38-2903ad563970",
   "metadata": {},
   "source": [
    "For Q1:\n",
    "- 0: Acoustic\n",
    "- 1: Slow\n",
    "- 2: Upbeat\n",
    "- 3: Calm \n",
    "- 4: Energetic \n",
    "\n",
    "For Q4: \n",
    "- 0: Disliked song but matched audio features\n",
    "- 1: Inaccurate genre\n",
    "- 2: Inaccurate audio features\n",
    "- 3: Unpopular \n",
    "- 4: All recommendations were successful"
   ]
  },
  {
   "cell_type": "code",
   "execution_count": 114,
   "id": "bc741bfc-516f-437d-8806-2964447fbaad",
   "metadata": {},
   "outputs": [],
   "source": [
    "user_review = pd.read_csv(\"data/final_survey_data.csv\")"
   ]
  },
  {
   "cell_type": "code",
   "execution_count": 116,
   "id": "d699bd71-758a-4522-9961-8dab5427de14",
   "metadata": {},
   "outputs": [
    {
     "data": {
      "text/html": [
       "<div>\n",
       "<style scoped>\n",
       "    .dataframe tbody tr th:only-of-type {\n",
       "        vertical-align: middle;\n",
       "    }\n",
       "\n",
       "    .dataframe tbody tr th {\n",
       "        vertical-align: top;\n",
       "    }\n",
       "\n",
       "    .dataframe thead th {\n",
       "        text-align: right;\n",
       "    }\n",
       "</style>\n",
       "<table border=\"1\" class=\"dataframe\">\n",
       "  <thead>\n",
       "    <tr style=\"text-align: right;\">\n",
       "      <th></th>\n",
       "      <th>Q1</th>\n",
       "      <th>Q2</th>\n",
       "      <th>Q3</th>\n",
       "      <th>Q4</th>\n",
       "    </tr>\n",
       "  </thead>\n",
       "  <tbody>\n",
       "    <tr>\n",
       "      <th>0</th>\n",
       "      <td>2</td>\n",
       "      <td>70</td>\n",
       "      <td>5</td>\n",
       "      <td>2</td>\n",
       "    </tr>\n",
       "    <tr>\n",
       "      <th>1</th>\n",
       "      <td>3</td>\n",
       "      <td>80</td>\n",
       "      <td>4</td>\n",
       "      <td>2</td>\n",
       "    </tr>\n",
       "    <tr>\n",
       "      <th>2</th>\n",
       "      <td>1</td>\n",
       "      <td>55</td>\n",
       "      <td>4</td>\n",
       "      <td>2</td>\n",
       "    </tr>\n",
       "    <tr>\n",
       "      <th>3</th>\n",
       "      <td>2</td>\n",
       "      <td>75</td>\n",
       "      <td>4</td>\n",
       "      <td>2</td>\n",
       "    </tr>\n",
       "    <tr>\n",
       "      <th>4</th>\n",
       "      <td>2</td>\n",
       "      <td>65</td>\n",
       "      <td>4</td>\n",
       "      <td>1</td>\n",
       "    </tr>\n",
       "  </tbody>\n",
       "</table>\n",
       "</div>"
      ],
      "text/plain": [
       "   Q1  Q2  Q3  Q4\n",
       "0   2  70   5   2\n",
       "1   3  80   4   2\n",
       "2   1  55   4   2\n",
       "3   2  75   4   2\n",
       "4   2  65   4   1"
      ]
     },
     "execution_count": 116,
     "metadata": {},
     "output_type": "execute_result"
    }
   ],
   "source": [
    "user_review.head()"
   ]
  },
  {
   "cell_type": "markdown",
   "id": "681c91ae-339e-495c-82dc-ef151e2226fe",
   "metadata": {},
   "source": [
    "**NOTE**: Dataset was preprocessed and cleaned in *Excel* prior to CSV download. This is the cleaned version being used."
   ]
  },
  {
   "cell_type": "markdown",
   "id": "23b8f43e-3ba4-4909-9459-d29a570b6ca8",
   "metadata": {},
   "source": [
    "First, let's observe the distribution of the categories which users selected:"
   ]
  },
  {
   "cell_type": "code",
   "execution_count": 148,
   "id": "7e58a22e-b692-4ad5-b8ba-0b752be3d3c6",
   "metadata": {},
   "outputs": [
    {
     "data": {
      "text/plain": [
       "Text(0.5, 0, 'Category')"
      ]
     },
     "execution_count": 148,
     "metadata": {},
     "output_type": "execute_result"
    },
    {
     "data": {
      "image/png": "[encoded data removed]",
      "text/plain": [
       "<Figure size 720x432 with 1 Axes>"
      ]
     },
     "metadata": {},
     "output_type": "display_data"
    }
   ],
   "source": [
    "plt.figure(figsize = (10, 6))\n",
    "x_value_mapping = {0: \"Slow\", 1: \"Upbeat\", 2: \"Calm\", 3: \"Energetic\"}\n",
    "ax = sns.countplot(x = 'Q1', data = user_review)\n",
    "ax.set_xticklabels([x_value_mapping[x] for x in ax.get_xticks()])\n",
    "for x in ax.patches:\n",
    "    ax.annotate(format(x.get_height(), '.1f'),\n",
    "                (x.get_x() + x.get_width() / 2., x.get_height()),\n",
    "                ha = 'center', \n",
    "                va = 'bottom',\n",
    "                xytext = (0, 5), \n",
    "                textcoords='offset points',\n",
    "                weight = 'bold')\n",
    "plt.title(\"Distribution of User Tested Playlist Categories\", weight = 'bold')\n",
    "plt.xlabel(\"Category\")"
   ]
  },
  {
   "cell_type": "markdown",
   "id": "5c8cc6be-e289-4830-ae7c-f06bd001d1f0",
   "metadata": {},
   "source": [
    "We can see that upbeat music was the most popular playlist type that was tested on, whereas \"energetic\" playlists were not chosen. This may be because of confusion in the difference between upbeat and energetic. Additionally, there were no playlists that were purely categorized as \"acoustic\". "
   ]
  },
  {
   "cell_type": "markdown",
   "id": "b9dcf858-c3c5-4547-a7e4-08cf15c7e1f1",
   "metadata": {},
   "source": [
    "Next, we'll look at the general performance metrics:"
   ]
  },
  {
   "cell_type": "code",
   "execution_count": 155,
   "id": "e6854b81-ade1-4f7b-9060-41499cd9ca63",
   "metadata": {},
   "outputs": [
    {
     "data": {
      "text/html": [
       "<div>\n",
       "<style scoped>\n",
       "    .dataframe tbody tr th:only-of-type {\n",
       "        vertical-align: middle;\n",
       "    }\n",
       "\n",
       "    .dataframe tbody tr th {\n",
       "        vertical-align: top;\n",
       "    }\n",
       "\n",
       "    .dataframe thead th {\n",
       "        text-align: right;\n",
       "    }\n",
       "</style>\n",
       "<table border=\"1\" class=\"dataframe\">\n",
       "  <thead>\n",
       "    <tr style=\"text-align: right;\">\n",
       "      <th></th>\n",
       "      <th>Average</th>\n",
       "    </tr>\n",
       "  </thead>\n",
       "  <tbody>\n",
       "    <tr>\n",
       "      <th>Q2</th>\n",
       "      <td>73.333333</td>\n",
       "    </tr>\n",
       "    <tr>\n",
       "      <th>Q3</th>\n",
       "      <td>4.395833</td>\n",
       "    </tr>\n",
       "  </tbody>\n",
       "</table>\n",
       "</div>"
      ],
      "text/plain": [
       "      Average\n",
       "Q2  73.333333\n",
       "Q3   4.395833"
      ]
     },
     "execution_count": 155,
     "metadata": {},
     "output_type": "execute_result"
    }
   ],
   "source": [
    "pd.DataFrame(user_review.mean()[['Q2', 'Q3']], columns = ['Average'])"
   ]
  },
  {
   "cell_type": "markdown",
   "id": "2d1d737d-67ef-42be-86ba-91f84b782e8a",
   "metadata": {},
   "source": [
    "From the dataframe above, we can see that the recommendation system received a **4.4/5** rating from users with an approximately **73%** success rate in recommendations. Now, let's analyze the specific performances based on the categories which users selected for their playlist."
   ]
  },
  {
   "cell_type": "code",
   "execution_count": 164,
   "id": "68f64c33-94cd-40e2-9bb6-dcc70d4ec6d5",
   "metadata": {},
   "outputs": [],
   "source": [
    "user_review['Q1'] = user_review['Q1'].map({1: 'Slow', 2: 'Upbeat', 3: 'Calm', 4: 'Energetic'})"
   ]
  },
  {
   "cell_type": "code",
   "execution_count": 181,
   "id": "90df4286-d8dc-41f0-abd5-cc6ff8984333",
   "metadata": {},
   "outputs": [
    {
     "data": {
      "text/html": [
       "<div>\n",
       "<style scoped>\n",
       "    .dataframe tbody tr th:only-of-type {\n",
       "        vertical-align: middle;\n",
       "    }\n",
       "\n",
       "    .dataframe tbody tr th {\n",
       "        vertical-align: top;\n",
       "    }\n",
       "\n",
       "    .dataframe thead th {\n",
       "        text-align: right;\n",
       "    }\n",
       "</style>\n",
       "<table border=\"1\" class=\"dataframe\">\n",
       "  <thead>\n",
       "    <tr style=\"text-align: right;\">\n",
       "      <th></th>\n",
       "      <th>Q2</th>\n",
       "      <th>Q3</th>\n",
       "    </tr>\n",
       "    <tr>\n",
       "      <th>Q1</th>\n",
       "      <th></th>\n",
       "      <th></th>\n",
       "    </tr>\n",
       "  </thead>\n",
       "  <tbody>\n",
       "    <tr>\n",
       "      <th>Calm</th>\n",
       "      <td>80.000000</td>\n",
       "      <td>4.166667</td>\n",
       "    </tr>\n",
       "    <tr>\n",
       "      <th>Energetic</th>\n",
       "      <td>65.000000</td>\n",
       "      <td>4.000000</td>\n",
       "    </tr>\n",
       "    <tr>\n",
       "      <th>Slow</th>\n",
       "      <td>69.166667</td>\n",
       "      <td>4.416667</td>\n",
       "    </tr>\n",
       "    <tr>\n",
       "      <th>Upbeat</th>\n",
       "      <td>72.727273</td>\n",
       "      <td>4.545455</td>\n",
       "    </tr>\n",
       "  </tbody>\n",
       "</table>\n",
       "</div>"
      ],
      "text/plain": [
       "                  Q2        Q3\n",
       "Q1                            \n",
       "Calm       80.000000  4.166667\n",
       "Energetic  65.000000  4.000000\n",
       "Slow       69.166667  4.416667\n",
       "Upbeat     72.727273  4.545455"
      ]
     },
     "execution_count": 181,
     "metadata": {},
     "output_type": "execute_result"
    }
   ],
   "source": [
    "user_review.groupby('Q1').mean()[['Q2', 'Q3']]"
   ]
  },
  {
   "cell_type": "code",
   "execution_count": 203,
   "id": "824c7e35-3b3e-4f27-8a50-e678d5f8ccab",
   "metadata": {},
   "outputs": [
    {
     "data": {
      "text/plain": [
       "Text(0, 0.5, '% Successful Recommendations')"
      ]
     },
     "execution_count": 203,
     "metadata": {},
     "output_type": "execute_result"
    },
    {
     "data": {
      "image/png": "[encoded data removed]",
      "text/plain": [
       "<Figure size 432x288 with 1 Axes>"
      ]
     },
     "metadata": {},
     "output_type": "display_data"
    }
   ],
   "source": [
    "sns.barplot(x=user_review.groupby('Q1').mean()[['Q2', 'Q3']].index, y='Q2', data=user_review.groupby('Q1').mean()[['Q2', 'Q3']])\n",
    "plt.ylabel(\"% Successful Recommendations\")"
   ]
  },
  {
   "cell_type": "markdown",
   "id": "065f01e8-ea89-4548-ab41-97748654f1fe",
   "metadata": {},
   "source": [
    "We can see from the information above that each category performed well, but energetic playlists were particularly underperforming in comparison. We can see that calm and slow songs did very well, perhaps because the recommendation system is able to interpret slower audio features easier. Regardless, upbeat songs also did very well according to users."
   ]
  },
  {
   "cell_type": "markdown",
   "id": "87c0095e-aef7-4e43-b447-1d287c87cecc",
   "metadata": {},
   "source": [
    "Finally, let's analyze the reason why users may be unhappy with the recommendation system: "
   ]
  },
  {
   "cell_type": "code",
   "execution_count": 202,
   "id": "7dbb369c-c485-485f-ab45-2dc50b7231cd",
   "metadata": {},
   "outputs": [
    {
     "data": {
      "text/plain": [
       "Text(0.5, 1.0, 'Distribution of Largest Mistakes According to Users')"
      ]
     },
     "execution_count": 202,
     "metadata": {},
     "output_type": "execute_result"
    },
    {
     "data": {
      "image/png": "[encoded data removed]",
      "text/plain": [
       "<Figure size 720x432 with 1 Axes>"
      ]
     },
     "metadata": {},
     "output_type": "display_data"
    }
   ],
   "source": [
    "plt.figure(figsize = (10, 6))\n",
    "plt.pie(user_review['Q4'].value_counts(), labels = round(user_review['Q4'].value_counts() / len(user_review), 2))\n",
    "plt.legend(['Audio Features', 'Genre', 'Unpopular'])\n",
    "plt.tight_layout()\n",
    "plt.title(\"Distribution of Largest Mistakes According to Users\", weight = 'bold')"
   ]
  },
  {
   "cell_type": "markdown",
   "id": "18ca604e-8be7-4d33-9857-fd1080118c0b",
   "metadata": {},
   "source": [
    "We can see according to users, audio features is the biggest reason why they would classify a recommendation as unsuccessful. Upon reading long answer responses, users say that certain songs sound completely irrelevant to the theme of the playlist. Even though it may be the same genre and a song that they may like, it is very different from the intended theme. This could be due to Spotify's classification of audio features being incorrect, causing the model to deem it as a similar song. However, users claim that most songs fit the theme of the playlist, with just a few songs sounding random. "
   ]
  },
  {
   "cell_type": "markdown",
   "id": "99a9cf4b-e416-4259-9765-0c1b27a67990",
   "metadata": {},
   "source": [
    "**Final Takeaways**"
   ]
  },
  {
   "cell_type": "markdown",
   "id": "af60c959-137d-4636-adaa-9139a004987a",
   "metadata": {},
   "source": [
    "1. Overall, the final recommendation system received very good reviews with a 4.5 average rating and 75% success rate\n",
    "2. There is still a lot of bias in the survey due to a non-random sampling and a prior relationship with the users, which may result in positive bias \n",
    "3. Slower and calmer songs tend to perform better in finding similar songs using kNN\n",
    "4. Certain songs that are retrieved from the Spotipy API do not have similar audio features despite being retrieved \n",
    "5. Results are primarily conclusive for playlists that have a particular theme"
   ]
  }
 ],
 "metadata": {
  "kernelspec": {
   "display_name": "Python 3",
   "language": "python",
   "name": "python3"
  },
  "language_info": {
   "codemirror_mode": {
    "name": "ipython",
    "version": 3
   },
   "file_extension": ".py",
   "mimetype": "text/x-python",
   "name": "python",
   "nbconvert_exporter": "python",
   "pygments_lexer": "ipython3",
   "version": "3.8.8"
  }
 },
 "nbformat": 4,
 "nbformat_minor": 5
}
