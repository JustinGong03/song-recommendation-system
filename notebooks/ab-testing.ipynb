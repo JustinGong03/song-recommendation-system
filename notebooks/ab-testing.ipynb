{
 "cells": [
  {
   "cell_type": "markdown",
   "id": "0d3a8b71-2697-42dd-870b-b6f25e65ff12",
   "metadata": {},
   "source": [
    "# Song Recommendation Project - A/B Testing for Different kNN Methods\n",
    "### Justin Gong | June 2023 - July 2023"
   ]
  },
  {
   "cell_type": "markdown",
   "id": "00792ddc-c994-44b9-8fc2-8bf8e25591f5",
   "metadata": {},
   "source": [
    "This notebook will analyze and compare the performance of *two* potential algorithms to select songs with similar audio features. This will achieved through A/B testing on a user survey where a group of selected testers were *randomly* divided into two groups and assigned a treatment. The following are the two algorithms being tested:\n",
    "\n",
    "1. Taking the average audio features of ALL songs in the playlist and using the kNN model to find the nearest neighbors to the \"average song\"\n",
    "2. Finding the nearest neighbors for each song in the playlist (indepdently) and only keeping overlapping songs \n",
    "\n",
    "These methods are pros and cons respectively. The first method is more efficient and only requires the model to be used once, but is easily influenced by outlier songs, which can severely affect the accuracy of the recommendation. The second method is not influenced by outliers while taking into consideration every song, but will run much slower and potentially misses good recommenations due to a lack of overlap. "
   ]
  },
  {
   "cell_type": "markdown",
   "id": "b662b91a-a2e2-4dfb-a331-e57bd2fdf225",
   "metadata": {},
   "source": [
    "## Experimental Design"
   ]
  },
  {
   "cell_type": "markdown",
   "id": "2d7151f8-71bd-49cb-8127-0f93a2790ac6",
   "metadata": {},
   "source": [
    "48 testers were selected, ranging in the age group of 20-23, all residing in New Jersey in the summer of 2023. It is important to note that users were *not* randomly sampled from the population. Using an Excel spreadsheet, each tester was indexed to have an assigned number. Using a random number generator, the first 24 numbers selected from 1-48 were assigned to model 1 and the other 24 were assigned to model 2. This was conducted as a controlled, blind experiment. Users were all asked to pick a playlist that was \"upbeat\" and send the playlist. 10 songs were sent back to the tester who were asked to listen to approximately 10 seconds at any time stamp of each song and then fill out the survey. Users were unaware of what algorithm they received. \n",
    "\n",
    "The questions on the survey are detailed below: \n",
    "1. % of songs that you would add to your playlist \n",
    "2. % of songs that you liked (regardless of adding to playlist)\n",
    "3. From 1-5, how accurate was the recommended songs?\n",
    "4. From 1-5, how would you rate the model overall?"
   ]
  },
  {
   "cell_type": "markdown",
   "id": "d7b60326-fe4e-4a3f-bf20-0168747e27f9",
   "metadata": {},
   "source": [
    "## A/B Test"
   ]
  },
  {
   "cell_type": "code",
   "execution_count": 31,
   "id": "fa99d62f-4772-4d9b-97fe-12358f35e3f8",
   "metadata": {},
   "outputs": [],
   "source": [
    "import pandas as pd \n",
    "import numpy as np\n",
    "import matplotlib.pyplot as plt \n",
    "import seaborn as sns\n",
    "from scipy import stats"
   ]
  },
  {
   "cell_type": "code",
   "execution_count": 10,
   "id": "8b91e735-cbfa-4e0d-b50a-9c5c5d8cdf29",
   "metadata": {},
   "outputs": [],
   "source": [
    "#NOTE: I mistakenly switched model 1 and model 2 during assignment, hence the switched data file names\n",
    "data_1 = pd.read_csv(\"data/user_model2_results.csv\")\n",
    "data_2 = pd.read_csv(\"data/model1_results.csv\")"
   ]
  },
  {
   "cell_type": "markdown",
   "id": "f849b821-4243-41ac-863f-075ae3af091d",
   "metadata": {},
   "source": [
    "### Initial Exploratory Data Analysis"
   ]
  },
  {
   "cell_type": "code",
   "execution_count": 19,
   "id": "4c25ce77-de47-4739-a23e-2840ebe556bd",
   "metadata": {},
   "outputs": [
    {
     "data": {
      "text/html": [
       "<div>\n",
       "<style scoped>\n",
       "    .dataframe tbody tr th:only-of-type {\n",
       "        vertical-align: middle;\n",
       "    }\n",
       "\n",
       "    .dataframe tbody tr th {\n",
       "        vertical-align: top;\n",
       "    }\n",
       "\n",
       "    .dataframe thead th {\n",
       "        text-align: right;\n",
       "    }\n",
       "</style>\n",
       "<table border=\"1\" class=\"dataframe\">\n",
       "  <thead>\n",
       "    <tr style=\"text-align: right;\">\n",
       "      <th></th>\n",
       "      <th>Q1</th>\n",
       "      <th>Q2</th>\n",
       "      <th>Q3</th>\n",
       "      <th>Q4</th>\n",
       "    </tr>\n",
       "  </thead>\n",
       "  <tbody>\n",
       "    <tr>\n",
       "      <th>0</th>\n",
       "      <td>45</td>\n",
       "      <td>75</td>\n",
       "      <td>3</td>\n",
       "      <td>5</td>\n",
       "    </tr>\n",
       "    <tr>\n",
       "      <th>1</th>\n",
       "      <td>40</td>\n",
       "      <td>75</td>\n",
       "      <td>4</td>\n",
       "      <td>3</td>\n",
       "    </tr>\n",
       "    <tr>\n",
       "      <th>2</th>\n",
       "      <td>50</td>\n",
       "      <td>70</td>\n",
       "      <td>2</td>\n",
       "      <td>5</td>\n",
       "    </tr>\n",
       "    <tr>\n",
       "      <th>3</th>\n",
       "      <td>40</td>\n",
       "      <td>80</td>\n",
       "      <td>3</td>\n",
       "      <td>2</td>\n",
       "    </tr>\n",
       "    <tr>\n",
       "      <th>4</th>\n",
       "      <td>55</td>\n",
       "      <td>75</td>\n",
       "      <td>2</td>\n",
       "      <td>5</td>\n",
       "    </tr>\n",
       "  </tbody>\n",
       "</table>\n",
       "</div>"
      ],
      "text/plain": [
       "   Q1  Q2  Q3  Q4\n",
       "0  45  75   3   5\n",
       "1  40  75   4   3\n",
       "2  50  70   2   5\n",
       "3  40  80   3   2\n",
       "4  55  75   2   5"
      ]
     },
     "execution_count": 19,
     "metadata": {},
     "output_type": "execute_result"
    }
   ],
   "source": [
    "data_1.head()"
   ]
  },
  {
   "cell_type": "code",
   "execution_count": 20,
   "id": "90095c2c-987b-4e48-ac2a-704d533054e9",
   "metadata": {},
   "outputs": [
    {
     "data": {
      "text/html": [
       "<div>\n",
       "<style scoped>\n",
       "    .dataframe tbody tr th:only-of-type {\n",
       "        vertical-align: middle;\n",
       "    }\n",
       "\n",
       "    .dataframe tbody tr th {\n",
       "        vertical-align: top;\n",
       "    }\n",
       "\n",
       "    .dataframe thead th {\n",
       "        text-align: right;\n",
       "    }\n",
       "</style>\n",
       "<table border=\"1\" class=\"dataframe\">\n",
       "  <thead>\n",
       "    <tr style=\"text-align: right;\">\n",
       "      <th></th>\n",
       "      <th>Q1</th>\n",
       "      <th>Q2</th>\n",
       "      <th>Q3</th>\n",
       "      <th>Q4</th>\n",
       "    </tr>\n",
       "  </thead>\n",
       "  <tbody>\n",
       "    <tr>\n",
       "      <th>0</th>\n",
       "      <td>25</td>\n",
       "      <td>50</td>\n",
       "      <td>3</td>\n",
       "      <td>3</td>\n",
       "    </tr>\n",
       "    <tr>\n",
       "      <th>1</th>\n",
       "      <td>50</td>\n",
       "      <td>50</td>\n",
       "      <td>2</td>\n",
       "      <td>3</td>\n",
       "    </tr>\n",
       "    <tr>\n",
       "      <th>2</th>\n",
       "      <td>55</td>\n",
       "      <td>55</td>\n",
       "      <td>2</td>\n",
       "      <td>3</td>\n",
       "    </tr>\n",
       "    <tr>\n",
       "      <th>3</th>\n",
       "      <td>35</td>\n",
       "      <td>40</td>\n",
       "      <td>3</td>\n",
       "      <td>2</td>\n",
       "    </tr>\n",
       "    <tr>\n",
       "      <th>4</th>\n",
       "      <td>55</td>\n",
       "      <td>50</td>\n",
       "      <td>2</td>\n",
       "      <td>3</td>\n",
       "    </tr>\n",
       "  </tbody>\n",
       "</table>\n",
       "</div>"
      ],
      "text/plain": [
       "   Q1  Q2  Q3  Q4\n",
       "0  25  50   3   3\n",
       "1  50  50   2   3\n",
       "2  55  55   2   3\n",
       "3  35  40   3   2\n",
       "4  55  50   2   3"
      ]
     },
     "execution_count": 20,
     "metadata": {},
     "output_type": "execute_result"
    }
   ],
   "source": [
    "data_2.head()"
   ]
  },
  {
   "cell_type": "code",
   "execution_count": 34,
   "id": "8acd65d3-9cee-4856-8c04-f7baec0896a8",
   "metadata": {},
   "outputs": [
    {
     "data": {
      "text/plain": [
       "<AxesSubplot:xlabel='Question', ylabel='Average Values'>"
      ]
     },
     "execution_count": 34,
     "metadata": {},
     "output_type": "execute_result"
    },
    {
     "data": {
      "image/png": "[encoded data removed]",
      "text/plain": [
       "<Figure size 720x432 with 1 Axes>"
      ]
     },
     "metadata": {
      "needs_background": "light"
     },
     "output_type": "display_data"
    }
   ],
   "source": [
    "avg_data = pd.DataFrame({\n",
    "    'Question': data_1.columns,\n",
    "    'Model 1': data_1.mean().values,\n",
    "    'Model 2': data_2.mean().values\n",
    "})\n",
    "\n",
    "plt.figure(figsize = (10, 6))\n",
    "sns.barplot(x='Question', \n",
    "            y='Average Values', \n",
    "            hue='Model', \n",
    "            data=avg_data.melt(id_vars='Question', var_name='Model', value_name='Average Values'))"
   ]
  },
  {
   "cell_type": "markdown",
   "id": "cd8afee3-fc1a-424b-adba-c054ea9657d6",
   "metadata": {},
   "source": [
    "Just from the side-by-side barplot, we can already see that model 1 generally performs better. However, it is important to perform a standard hypothesis test to ensure that these results are not purely from chance. Therefore, I'll perform a hypothesis test that mean model 1 > mean model 2 with null hypothesis that they are equal."
   ]
  },
  {
   "cell_type": "code",
   "execution_count": 58,
   "id": "e57396dd-cb14-4fe9-801a-d16c66969f4c",
   "metadata": {},
   "outputs": [
    {
     "data": {
      "image/png": "[encoded data removed]",
      "text/plain": [
       "<Figure size 576x576 with 4 Axes>"
      ]
     },
     "metadata": {},
     "output_type": "display_data"
    }
   ],
   "source": [
    "fig, axes = plt.subplots(nrows = 2, ncols = 2, figsize=(8,8))\n",
    "\n",
    "for i, question in enumerate(data_1.columns):\n",
    "    plt.subplot(2, 2, (i + 1))\n",
    "    sns.histplot(data_1[question], bins = 3)\n",
    "    \n",
    "plt.tight_layout()"
   ]
  },
  {
   "cell_type": "markdown",
   "id": "4f578282-b86f-42d8-9b93-53bc241280f6",
   "metadata": {},
   "source": [
    "Due to question 2 and question 3 have approximately normally distributed responses, we'll perform the statistical tests on these two questions in order to meet assumptions."
   ]
  },
  {
   "cell_type": "markdown",
   "id": "df8d4b47-0f59-4b42-8865-6270fa45dcb3",
   "metadata": {},
   "source": [
    "## Statistical Test"
   ]
  },
  {
   "cell_type": "markdown",
   "id": "46c734e4-8bef-43bc-8f55-14b605ed89bb",
   "metadata": {},
   "source": [
    "Now we may perform an A/B test to compare the performance of the two models."
   ]
  },
  {
   "cell_type": "markdown",
   "id": "1a8b9bed-c16b-4a6a-9de1-44aadfeb6119",
   "metadata": {},
   "source": [
    "The null hypothesis is that the metrics of both models yield the same results. The alternate hypothesis is that the two models yields different results. If there statistically significant evidence to show that the null hypothesis is false, then we may say that model 1 is liked more than model 2 due to the exploratory data analysis. We will test with an alpha of 0.05."
   ]
  },
  {
   "cell_type": "code",
   "execution_count": 60,
   "id": "cde10d62-fb84-4d80-816b-8117a34cf896",
   "metadata": {},
   "outputs": [],
   "source": [
    "mean_model_1 = np.mean(data_1['Q2'])\n",
    "std_model_1 = np.std(data_1['Q2'])\n",
    "\n",
    "mean_model_2 = np.mean(data_2['Q2'])\n",
    "std_model_2 = np.std(data_2['Q2'])"
   ]
  },
  {
   "cell_type": "code",
   "execution_count": 61,
   "id": "6c894767-badf-41f7-8950-a308f0913828",
   "metadata": {},
   "outputs": [],
   "source": [
    "t_statistic, p_value = stats.ttest_ind(data_1['Q2'], data_2['Q2'])"
   ]
  },
  {
   "cell_type": "code",
   "execution_count": 62,
   "id": "a20c60de-c3d8-40b9-9d50-60053a607b73",
   "metadata": {},
   "outputs": [
    {
     "name": "stdout",
     "output_type": "stream",
     "text": [
      "T statistic:  20.026929238823463\n",
      "P-Value:  5.979156492705756e-25\n"
     ]
    }
   ],
   "source": [
    "print(\"T statistic: \", t_statistic)\n",
    "print(\"P-Value: \", p_value)"
   ]
  },
  {
   "cell_type": "code",
   "execution_count": 64,
   "id": "ad299661-08b8-4d08-a00d-895d561fc662",
   "metadata": {},
   "outputs": [],
   "source": [
    "effect_size = (mean_model_1 - mean_model_2) / np.sqrt((std_model_1**2 + std_model_2**2) / 2)"
   ]
  },
  {
   "cell_type": "code",
   "execution_count": 66,
   "id": "1bea2640-43a0-4f28-aed2-212def68bc9b",
   "metadata": {},
   "outputs": [
    {
     "name": "stdout",
     "output_type": "stream",
     "text": [
      "Cohen's D:  5.781276493538156\n"
     ]
    }
   ],
   "source": [
    "print(\"Cohen's D: \", effect_size)"
   ]
  },
  {
   "cell_type": "markdown",
   "id": "487e35f6-ba24-468f-b32e-f9245c7db0a6",
   "metadata": {},
   "source": [
    "From the A/B test from the user survey, we can reject the null hypothesis that the two models produce the same amount of liked songs in the recommendations, and conclude with statistical significance that model 1 produces songs that are liked by users more than model 2. By Cohen's D, we can see that the effect size is also significantly large, suggesting a meaningful difference between the two averages. Let's explore the rating for the accuracy of recommended songs as well."
   ]
  },
  {
   "cell_type": "code",
   "execution_count": 68,
   "id": "fc9db513-504a-47dd-a377-de6d139c8200",
   "metadata": {},
   "outputs": [
    {
     "name": "stdout",
     "output_type": "stream",
     "text": [
      "T statistic:  2.3631790843301284\n",
      "P-Value:  0.02221724574386678\n",
      "Cohen's D:  0.6821910402406464\n"
     ]
    }
   ],
   "source": [
    "mean_model_1 = np.mean(data_1['Q3'])\n",
    "std_model_1 = np.std(data_1['Q3'])\n",
    "\n",
    "mean_model_2 = np.mean(data_2['Q3'])\n",
    "std_model_2 = np.std(data_2['Q3'])\n",
    "\n",
    "t_statistic, p_value = stats.ttest_ind(data_1['Q3'], data_2['Q3'])\n",
    "\n",
    "print(\"T statistic: \", t_statistic)\n",
    "print(\"P-Value: \", p_value)\n",
    "\n",
    "effect_size = (mean_model_1 - mean_model_2) / np.sqrt((std_model_1**2 + std_model_2**2) / 2)\n",
    "\n",
    "print(\"Cohen's D: \", effect_size)"
   ]
  },
  {
   "cell_type": "markdown",
   "id": "27e6078c-2c6c-4355-ab03-08f11ac9f399",
   "metadata": {},
   "source": [
    "We can see that the strength of the difference is slightly weaker due to a smaller effect size, which we may classify as a *medium-strengthed effect size.* However, due to a P-value of less than 0.05, which we our intended alpha prior to testing, we may reject the null hypothesis that the two models are rated the same by users. We may conclude with statistical significance that model 1 is more liked by users than model 2, while considering a medium sized Cohen's D."
   ]
  },
  {
   "cell_type": "markdown",
   "id": "7a341eb7-2bc8-417b-a353-87cc29799007",
   "metadata": {},
   "source": [
    "## Conclusion"
   ]
  },
  {
   "cell_type": "markdown",
   "id": "c0210ea2-b6af-4910-9493-454b65eaca88",
   "metadata": {},
   "source": [
    "In conclusion, the exploratory data analysis and A/B testing provided significant evidence to reject the hypothesis that both models are equally liked by users. We may state that model 1 produced better results due to the visualizations. The distribution plots and bar plots in pair with the A/B test provides evidence t"
   ]
  }
 ],
 "metadata": {
  "kernelspec": {
   "display_name": "Python 3",
   "language": "python",
   "name": "python3"
  },
  "language_info": {
   "codemirror_mode": {
    "name": "ipython",
    "version": 3
   },
   "file_extension": ".py",
   "mimetype": "text/x-python",
   "name": "python",
   "nbconvert_exporter": "python",
   "pygments_lexer": "ipython3",
   "version": "3.8.8"
  }
 },
 "nbformat": 4,
 "nbformat_minor": 5
}
